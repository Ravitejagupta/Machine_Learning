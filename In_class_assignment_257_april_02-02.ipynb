{
 "cells": [
  {
   "cell_type": "code",
   "execution_count": 97,
   "metadata": {
    "collapsed": true
   },
   "outputs": [],
   "source": [
    "import numpy as np\n",
    "import pandas as pd"
   ]
  },
  {
   "cell_type": "code",
   "execution_count": 98,
   "metadata": {
    "collapsed": false
   },
   "outputs": [],
   "source": [
    "X = np.array([[1,1,1],[1,0,1],[0,1,1],[0,0,1]])\n",
    "Y = np.array([[0],[1],[1],[0]])"
   ]
  },
  {
   "cell_type": "code",
   "execution_count": 99,
   "metadata": {
    "collapsed": false
   },
   "outputs": [],
   "source": [
    "w1 = np.random.randn(3,4)\n",
    "w3 = np.random.randn(4,1)\n",
    "\n",
    "b1 = np.random.randn(4,4)\n",
    "b3 = np.random.randn(4,1)"
   ]
  },
  {
   "cell_type": "code",
   "execution_count": 100,
   "metadata": {
    "collapsed": true
   },
   "outputs": [],
   "source": [
    "import math\n",
    "def sigmoid(x):\n",
    "    s = 1.0 / (1.0 + np.exp(-1.0*x))\n",
    "    return s"
   ]
  },
  {
   "cell_type": "code",
   "execution_count": 101,
   "metadata": {
    "collapsed": false
   },
   "outputs": [],
   "source": [
    "h1 = sigmoid(np.dot(X,w1) + b1)\n",
    "output = np.dot(h1,w3) + b3"
   ]
  },
  {
   "cell_type": "code",
   "execution_count": 102,
   "metadata": {
    "collapsed": false
   },
   "outputs": [
    {
     "data": {
      "text/plain": [
       "array([[ 0.83916856],\n",
       "       [-0.10994185],\n",
       "       [ 0.36481286],\n",
       "       [ 0.48601677]])"
      ]
     },
     "execution_count": 102,
     "metadata": {},
     "output_type": "execute_result"
    }
   ],
   "source": [
    "output"
   ]
  },
  {
   "cell_type": "code",
   "execution_count": 103,
   "metadata": {
    "collapsed": false
   },
   "outputs": [
    {
     "data": {
      "text/plain": [
       "array([[ 0.84534726],\n",
       "       [-0.10271385],\n",
       "       [ 0.36825086],\n",
       "       [ 0.4889386 ]])"
      ]
     },
     "execution_count": 103,
     "metadata": {},
     "output_type": "execute_result"
    }
   ],
   "source": [
    "def derivative(output):\n",
    "    return output * (1.0 - output)\n",
    "for _ in range(0,100):\n",
    "    dout=sigmoid(output)*(1-sigmoid(output))    \n",
    "    w1=w1-dw\n",
    "    h1 = sigmoid(np.dot(X,w1) + b1)\n",
    "    output = np.dot(h1,w3) + b3\n",
    "output"
   ]
  },
  {
   "cell_type": "code",
   "execution_count": 104,
   "metadata": {
    "collapsed": false
   },
   "outputs": [],
   "source": [
    "error = (Y - output) * derivative(output)"
   ]
  },
  {
   "cell_type": "code",
   "execution_count": 105,
   "metadata": {
    "collapsed": false
   },
   "outputs": [],
   "source": [
    "epochs = 2000\n",
    "\n",
    "w01 = np.random.random((len(X[0]), 5))\n",
    "w12 = np.random.random((5, 1))\n",
    "\n",
    "for _ in range(epochs):\n",
    "    z_h = np.dot(X, w1)\n",
    "    a_h = sigmoid(z_h)\n",
    "\n",
    "    z_o = np.dot(a_h, w3)\n",
    "    a_o = sigmoid(z_o)\n",
    "\n",
    "    a_o_error = ((1 / 2) * (np.power((a_o - Y), 2)))\n",
    "\n",
    "    delta_a_o_error = a_o - Y\n",
    "    delta_z_o = sigmoid(a_o)\n",
    "    delta_w3 = a_h\n",
    "    delta_output_layer = np.dot(delta_w3.T,(delta_a_o_error * delta_z_o))\n",
    "\n",
    "    delta_a_h = np.dot(delta_a_o_error * delta_z_o, w3.T)\n",
    "    delta_z_h = sigmoid(a_h)\n",
    "    delta_w1 = X\n",
    "    delta_hidden_layer = np.dot(delta_w1.T, delta_a_h * delta_z_h)\n",
    "\n",
    "    w1 = w1 - delta_hidden_layer\n",
    "    w3 = w3 - delta_output_layer"
   ]
  },
  {
   "cell_type": "code",
   "execution_count": 106,
   "metadata": {
    "collapsed": false
   },
   "outputs": [
    {
     "data": {
      "text/plain": [
       "array([[ 0.01136969],\n",
       "       [ 0.99184309],\n",
       "       [ 0.9918706 ],\n",
       "       [ 0.01012364]])"
      ]
     },
     "execution_count": 106,
     "metadata": {},
     "output_type": "execute_result"
    }
   ],
   "source": [
    "a_o"
   ]
  }
 ],
 "metadata": {
  "kernelspec": {
   "display_name": "Python 3",
   "language": "python",
   "name": "python3"
  },
  "language_info": {
   "codemirror_mode": {
    "name": "ipython",
    "version": 3
   },
   "file_extension": ".py",
   "mimetype": "text/x-python",
   "name": "python",
   "nbconvert_exporter": "python",
   "pygments_lexer": "ipython3",
   "version": "3.6.0"
  }
 },
 "nbformat": 4,
 "nbformat_minor": 2
}
